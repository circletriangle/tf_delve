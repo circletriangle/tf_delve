{
 "cells": [
  {
   "cell_type": "code",
   "execution_count": 1,
   "metadata": {},
   "outputs": [],
   "source": [
    "import tensorflow as tf \n",
    "from tensorflow import keras as keras\n",
    "from tensorflow.python.keras import backend as K\n",
    "import os\n",
    "import numpy as np\n",
    "import datetime\n",
    "import importlib\n",
    "\n",
    "\n",
    "import Clone_Model\n",
    "import rsc"
   ]
  },
  {
   "cell_type": "code",
   "execution_count": 2,
   "metadata": {},
   "outputs": [],
   "source": [
    "checkpoint_path = \"./cloning/checkpoints/cloning/default_checkpoint.ckpt\"\n",
    "checkpoint_dir = os.path.dirname(checkpoint_path)\n",
    "ckpt_callback = tf.keras.callbacks.ModelCheckpoint(filepath=checkpoint_path, save_weights_only=True, verbose=1)\n",
    "\n",
    "log_dir_clone = \"./cloning/logs/fit/\" + datetime.datetime.now().strftime(\"%Y%m%d-%H%M%S\")\n",
    "tensorboard_callback = tf.keras.callbacks.TensorBoard(log_dir=log_dir_clone, histogram_freq=1)"
   ]
  },
  {
   "cell_type": "code",
   "execution_count": 58,
   "metadata": {},
   "outputs": [
    {
     "name": "stdout",
     "output_type": "stream",
     "text": [
      "3/3 [==============================] - 0s 13ms/step - loss: 1.8201 - val_loss: 1.4215\n",
      "3/3 [==============================] - 0s 45ms/step - loss: 1.5399 - my_placeholder_metric_dense_1: 2208.6514 - observed_samples_sat_dense_1: 40.7466 - my_placeholder_metric_dense_2: 1242.8102 - observed_samples_sat_dense_2: 40.0302 - my_placeholder_metric_dense_3: 648.5023 - observed_samples_sat_dense_3: 41.6745 - my_placeholder_metric_dense_4: 630.7831 - observed_samples_sat_dense_4: 41.4525 - my_placeholder_metric_predictions: 20.0000 - observed_samples_sat_predictions: 40.8636 - val_loss: 0.9327 - val_my_placeholder_metric_dense_1: 2100.5286 - val_observed_samples_sat_dense_1: 80.7466 - val_my_placeholder_metric_dense_2: 1193.6204 - val_observed_samples_sat_dense_2: 80.0302 - val_my_placeholder_metric_dense_3: 612.4310 - val_observed_samples_sat_dense_3: 81.6745 - val_my_placeholder_metric_dense_4: 591.7574 - val_observed_samples_sat_dense_4: 81.4525 - val_my_placeholder_metric_predictions: 20.0000 - val_observed_samples_sat_predictions: 80.8636\n"
     ]
    }
   ],
   "source": [
    "#      CLONE MODEL EAGER ENABLED\n",
    "###########################################\n",
    "\n",
    "importlib.reload(rsc)\n",
    "importlib.reload(Clone_Model)\n",
    "\n",
    "if not tf.executing_eagerly(): tf.compat.v1.enable_eager_execution()\n",
    "\n",
    "K.clear_session()\n",
    "\n",
    "batch_size = 3\n",
    "\n",
    "train, test = rsc.get_titanic_dataset()\n",
    "\n",
    "\n",
    "model = rsc.get_model(None)\n",
    "\n",
    "model.compile(\n",
    "    optimizer=keras.optimizers.Adam(),\n",
    "    loss=keras.losses.BinaryCrossentropy(),\n",
    "    run_eagerly = tf.executing_eagerly()\n",
    "    )\n",
    "\n",
    "\n",
    "history = model.fit(train,\n",
    "                    batch_size=batch_size,\n",
    "                    epochs=1, \n",
    "                    steps_per_epoch=3, \n",
    "                    validation_data=test, \n",
    "                    validation_steps=1, \n",
    "                    callbacks=[tensorboard_callback])\n",
    "\n",
    "\"\"\"\n",
    "clone_fn = Clone_Model.clone_fn\n",
    "clone = tf.keras.models.clone_model(model, input_tensors=model.inputs, clone_function=clone_fn)\n",
    "\n",
    "z_in = np.ones(shape=(20,4))\n",
    "assert np.allclose(model.predict(z_in), clone.predict(z_in)), \"Wrooong\"\n",
    "\"\"\"\n",
    "\n",
    "clone = Clone_Model.satify_model(model)\n",
    "\n",
    "clone.compile(optimizer=keras.optimizers.Adam(),\n",
    "              loss=keras.losses.BinaryCrossentropy(),\n",
    "              run_eagerly = tf.executing_eagerly())\n",
    "\n",
    "history = clone.fit(train,\n",
    "                    batch_size=batch_size,\n",
    "                    epochs = 1,\n",
    "                    steps_per_epoch=3,\n",
    "                    validation_data=test, \n",
    "                    validation_steps=1, \n",
    "                    callbacks=[tensorboard_callback])\n",
    "                "
   ]
  },
  {
   "cell_type": "code",
   "execution_count": 33,
   "metadata": {},
   "outputs": [
    {
     "data": {
      "text/plain": [
       "array(0.)"
      ]
     },
     "execution_count": 33,
     "metadata": {},
     "output_type": "execute_result"
    }
   ],
   "source": [
    "#(None, 21, 5)[1:]*2\n",
    "np.zeros(shape=(None))"
   ]
  }
 ],
 "metadata": {
  "kernelspec": {
   "display_name": "Python [conda env:tf] *",
   "language": "python",
   "name": "conda-env-tf-py"
  },
  "language_info": {
   "codemirror_mode": {
    "name": "ipython",
    "version": 3
   },
   "file_extension": ".py",
   "mimetype": "text/x-python",
   "name": "python",
   "nbconvert_exporter": "python",
   "pygments_lexer": "ipython3",
   "version": "3.7.9"
  }
 },
 "nbformat": 4,
 "nbformat_minor": 4
}

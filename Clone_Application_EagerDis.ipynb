{
 "cells": [
  {
   "cell_type": "code",
   "execution_count": 1,
   "metadata": {},
   "outputs": [],
   "source": [
    "import tensorflow as tf \n",
    "from tensorflow import keras as keras\n",
    "from tensorflow.python.keras import backend as K\n",
    "import os\n",
    "import numpy as np\n",
    "import datetime\n",
    "import importlib\n",
    "\n",
    "import SatCallbacks\n",
    "import Clone_Model\n",
    "import rsc"
   ]
  },
  {
   "cell_type": "code",
   "execution_count": 5,
   "metadata": {},
   "outputs": [],
   "source": [
    "#tf.compat.v1.disable_eager_execution()"
   ]
  },
  {
   "cell_type": "code",
   "execution_count": 3,
   "metadata": {},
   "outputs": [],
   "source": [
    "checkpoint_path = \"./cloning_eager_dis/checkpoints/cloning/default_checkpoint.ckpt\"\n",
    "checkpoint_dir = os.path.dirname(checkpoint_path)\n",
    "ckpt_callback = tf.keras.callbacks.ModelCheckpoint(filepath=checkpoint_path, save_weights_only=True, verbose=1)\n",
    "\n",
    "log_dir_clone = \"./cloning_eager_dis/logs/fit/\" + datetime.datetime.now().strftime(\"%Y%m%d-%H%M%S\")\n",
    "tensorboard_callback = tf.keras.callbacks.TensorBoard(log_dir=log_dir_clone, histogram_freq=1)"
   ]
  },
  {
   "cell_type": "code",
   "execution_count": 6,
   "metadata": {},
   "outputs": [
    {
     "name": "stdout",
     "output_type": "stream",
     "text": [
      "20/20 [==============================] - 0s 6ms/step - loss: 0.9043 - val_loss: 0.8578\n",
      "Model output_shape: (None, 2)\n",
      "input_shape: [None, 21]\n",
      "layer_width: (21,)\n",
      "SatLayer input shape (None, 21) not matching current_activation property shape (0, 21)\n",
      "batch_size initialized. current shape is: Tensor(\"dense_1_5/Shape:0\", shape=(1,), dtype=int32)\n",
      "input_shape: [None, 22]\n",
      "layer_width: (22,)\n",
      "SatLayer input shape (None, 22) not matching current_activation property shape (0, 22)\n",
      "batch_size initialized. current shape is: Tensor(\"dense_2_5/Shape:0\", shape=(1,), dtype=int32)\n",
      "input_shape: [None, 23]\n",
      "layer_width: (23,)\n",
      "SatLayer input shape (None, 23) not matching current_activation property shape (0, 23)\n",
      "batch_size initialized. current shape is: Tensor(\"dense_3_5/Shape:0\", shape=(1,), dtype=int32)\n",
      "input_shape: [None, 24]\n",
      "layer_width: (24,)\n",
      "SatLayer input shape (None, 24) not matching current_activation property shape (0, 24)\n",
      "batch_size initialized. current shape is: Tensor(\"dense_4_5/Shape:0\", shape=(1,), dtype=int32)\n",
      "input_shape: [None, 2]\n",
      "layer_width: (2,)\n",
      "SatLayer input shape (None, 2) not matching current_activation property shape (0, 2)\n",
      "batch_size initialized. current shape is: Tensor(\"predictions_5/Shape:0\", shape=(1,), dtype=int32)\n",
      "Layer InputLayer\n",
      "Layer mydense\n",
      "Layer mydense\n",
      "Layer mydense\n",
      "Layer mydense\n",
      "Layer mydense\n",
      "SatLayer input shape (20, 21) not matching current_activation property shape (0, 21)\n",
      "SatLayer input shape (20, 22) not matching current_activation property shape (0, 22)\n",
      "SatLayer input shape (20, 23) not matching current_activation property shape (0, 23)\n",
      "SatLayer input shape (20, 24) not matching current_activation property shape (0, 24)\n",
      "SatLayer input shape (20, 2) not matching current_activation property shape (0, 2)\n",
      "current_activation: []\n",
      "current_activation: []\n",
      "current_activation: []\n",
      "current_activation: []\n",
      "current_activation: []\n",
      "1/3 [=========>....................] - ETA: 0s - loss: 0.8040 - dense_1_act: nan - dense_2_act: nan - dense_3_act: nan - dense_4_act: nan - predictions_act: nanSatLayer input shape (20, 21) not matching current_activation property shape (0, 21)\n",
      "SatLayer input shape (20, 22) not matching current_activation property shape (0, 22)\n",
      "SatLayer input shape (20, 23) not matching current_activation property shape (0, 23)\n",
      "SatLayer input shape (20, 24) not matching current_activation property shape (0, 24)\n",
      "SatLayer input shape (20, 2) not matching current_activation property shape (0, 2)\n",
      "current_activation: []\n",
      "current_activation: []\n",
      "current_activation: []\n",
      "current_activation: []\n",
      "current_activation: []\n",
      "SatLayer input shape (20, 21) not matching current_activation property shape (0, 21)\n",
      "SatLayer input shape (20, 22) not matching current_activation property shape (0, 22)\n",
      "SatLayer input shape (20, 23) not matching current_activation property shape (0, 23)\n",
      "SatLayer input shape (20, 24) not matching current_activation property shape (0, 24)\n",
      "SatLayer input shape (20, 2) not matching current_activation property shape (0, 2)\n",
      "current_activation: []\n",
      "current_activation: []\n",
      "current_activation: []\n",
      "current_activation: []\n",
      "current_activation: []\n",
      "SatLayer input shape (20, 21) not matching current_activation property shape (0, 21)\n",
      "SatLayer input shape (20, 22) not matching current_activation property shape (0, 22)\n",
      "SatLayer input shape (20, 23) not matching current_activation property shape (0, 23)\n",
      "SatLayer input shape (20, 24) not matching current_activation property shape (0, 24)\n",
      "SatLayer input shape (20, 2) not matching current_activation property shape (0, 2)\n",
      "3/3 [==============================] - 0s 17ms/step - loss: 0.6030 - dense_1_act: nan - dense_2_act: nan - dense_3_act: nan - dense_4_act: nan - predictions_act: nan - val_loss: 0.5667\n"
     ]
    }
   ],
   "source": [
    "#      CLONE MODEL EAGER DISABLED !!!DEPRECATED!!!\n",
    "###########################################\n",
    "importlib.reload(rsc)\n",
    "importlib.reload(Clone_Model)\n",
    "\n",
    "#K.clear_session() \n",
    "\n",
    "#tf.compat.v1.disable_eager_execution()\n",
    "\n",
    "batch_size = None #doesnt work/conflict tensorboard_callback\n",
    "train, test = rsc.get_titanic_dataset()\n",
    "\n",
    "\n",
    "\n",
    "model = rsc.get_model(None)\n",
    "\n",
    "model.compile(\n",
    "    optimizer=keras.optimizers.Adam(),\n",
    "    loss=keras.losses.BinaryCrossentropy(),\n",
    "    run_eagerly = tf.executing_eagerly()\n",
    "    )\n",
    "\n",
    "\n",
    "tensorboard_callback.set_model(model)\n",
    "\n",
    "history = model.fit(train,\n",
    "                    batch_size=batch_size,\n",
    "                    epochs=1, \n",
    "                    steps_per_epoch=20, \n",
    "                    validation_data=test, \n",
    "                    validation_steps=1, \n",
    "                    callbacks=[])\n",
    "\n",
    "\n",
    "clone = Clone_Model.satify_model(model)\n",
    "\n",
    "clone.compile(optimizer=keras.optimizers.Adam(),\n",
    "              loss=keras.losses.BinaryCrossentropy(),\n",
    "              run_eagerly = tf.executing_eagerly())\n",
    "\n",
    "sat_cb = SatCallbacks.sat_results()\n",
    "\n",
    "\n",
    "history = clone.fit(train,\n",
    "                    batch_size=batch_size,\n",
    "                    epochs=1,\n",
    "                    steps_per_epoch=3,\n",
    "                    validation_data=test, \n",
    "                    validation_steps=1, \n",
    "                    callbacks=[sat_cb])\n",
    "                "
   ]
  },
  {
   "cell_type": "code",
   "execution_count": 7,
   "metadata": {},
   "outputs": [
    {
     "name": "stdout",
     "output_type": "stream",
     "text": [
      "True\n",
      "Epoch 1/5\n",
      "3000/3000 [==============================] - 9s 3ms/step - loss: 2.0428 - accuracy: 0.8598 - val_loss: 0.2613 - val_accuracy: 0.9000\n",
      "Epoch 2/5\n",
      "3000/3000 [==============================] - 9s 3ms/step - loss: 0.3650 - accuracy: 0.9138 - val_loss: 0.1627 - val_accuracy: 0.9500\n",
      "Epoch 3/5\n",
      "3000/3000 [==============================] - 9s 3ms/step - loss: 0.2940 - accuracy: 0.9298 - val_loss: 0.3402 - val_accuracy: 0.8500\n",
      "Epoch 4/5\n",
      "3000/3000 [==============================] - 13s 4ms/step - loss: 0.2735 - accuracy: 0.9347 - val_loss: 0.1531 - val_accuracy: 0.9500\n",
      "Epoch 5/5\n",
      "3000/3000 [==============================] - 10s 3ms/step - loss: 0.2488 - accuracy: 0.9419 - val_loss: 0.3176 - val_accuracy: 0.8500\n"
     ]
    }
   ],
   "source": [
    "#      CLASSIFY MNIST EAGER DISABLED\n",
    "###########################################\n",
    "importlib.reload(rsc)\n",
    "importlib.reload(Clone_Model)\n",
    "\n",
    "K.clear_session() \n",
    "print(tf.executing_eagerly())\n",
    "\n",
    "#problem source\n",
    "#tf.compat.v1.disable_eager_execution()\n",
    "\n",
    "batch_size = 20 \n",
    "\n",
    "train, test = rsc.get_mnist()\n",
    "\n",
    "model = rsc.get_model_unitlist(hidden_layers_spec=[128])\n",
    "\n",
    "model.compile(\n",
    "    optimizer=keras.optimizers.Adam(),\n",
    "    loss=tf.keras.losses.SparseCategoricalCrossentropy(from_logits=True),\n",
    "    metrics=['accuracy'],\n",
    "    run_eagerly = False\n",
    "    )\n",
    "\n",
    "\n",
    "tensorboard_callback.set_model(model)\n",
    "\n",
    "history = model.fit(train[0],\n",
    "                    train[1],\n",
    "                    batch_size=batch_size,\n",
    "                    epochs=5, \n",
    "                    steps_per_epoch=None, \n",
    "                    validation_data=test, \n",
    "                    validation_steps=1, \n",
    "                    callbacks=[])\n"
   ]
  },
  {
   "cell_type": "code",
   "execution_count": 8,
   "metadata": {},
   "outputs": [
    {
     "name": "stdout",
     "output_type": "stream",
     "text": [
      "True\n",
      "Model output_shape: (None, 10)\n",
      "input_shape: [None, 128]\n",
      "layer_width: (128,)\n",
      "SatLayer input shape (None, 128) not matching current_activation property shape (0, 128)\n",
      "batch_size initialized. current shape is: Tensor(\"dense_2/Shape:0\", shape=(1,), dtype=int32)\n",
      "input_shape: [None, 10]\n",
      "layer_width: (10,)\n",
      "SatLayer input shape (None, 10) not matching current_activation property shape (0, 10)\n",
      "batch_size initialized. current shape is: Tensor(\"dense_1_1/Shape:0\", shape=(1,), dtype=int32)\n",
      "Layer Flatten\n",
      "Layer mydense\n",
      "Layer mydense\n",
      "cross-replica-ctxt: False\n",
      "tf.dist.strat:  <tensorflow.python.distribute.distribute_lib._DefaultDistributionStrategy object at 0x7f450c328410>\n",
      "SatLayer input shape (10, 128) not matching current_activation property shape (0, 128)\n",
      "SatLayer input shape (10, 10) not matching current_activation property shape (0, 10)\n",
      "SatLayer input shape (10, 128) not matching current_activation property shape (0, 128)\n",
      "SatLayer input shape (10, 10) not matching current_activation property shape (0, 10)\n",
      "current_activation: []\n",
      "current_activation: []\n",
      "1/5 [=====>........................] - ETA: 0s - loss: 3.1980 - accuracy: 0.8667 - dense_act: nan - dense_1_act: nancurrent_activation: []\n",
      "current_activation: []\n",
      "current_activation: []\n",
      "current_activation: []\n",
      "current_activation: []\n",
      "current_activation: []\n",
      "current_activation: []\n",
      "current_activation: []\n",
      "SatLayer input shape (10, 128) not matching current_activation property shape (0, 128)\n",
      "SatLayer input shape (10, 10) not matching current_activation property shape (0, 10)\n",
      "\n",
      "Comparing batch_k and batch_tf:\n",
      "\n",
      "Shape batch_k: [  0 128]\n",
      "Shape batch_tf: [ 10 128]\n"
     ]
    },
    {
     "ename": "InvalidArgumentError",
     "evalue": "Incompatible shapes: [0,128] vs. [10,128] [Op:Equal]",
     "output_type": "error",
     "traceback": [
      "\u001b[0;31m---------------------------------------------\u001b[0m",
      "\u001b[0;31mInvalidArgumentError\u001b[0mTraceback (most recent call last)",
      "\u001b[0;32m<ipython-input-8-73e4b839ff1c>\u001b[0m in \u001b[0;36m<module>\u001b[0;34m\u001b[0m\n\u001b[1;32m     26\u001b[0m                     \u001b[0mvalidation_data\u001b[0m\u001b[0;34m=\u001b[0m\u001b[0mtest\u001b[0m\u001b[0;34m,\u001b[0m\u001b[0;34m\u001b[0m\u001b[0;34m\u001b[0m\u001b[0m\n\u001b[1;32m     27\u001b[0m                     \u001b[0mvalidation_steps\u001b[0m\u001b[0;34m=\u001b[0m\u001b[0;36m1\u001b[0m\u001b[0;34m,\u001b[0m\u001b[0;34m\u001b[0m\u001b[0;34m\u001b[0m\u001b[0m\n\u001b[0;32m---> 28\u001b[0;31m                     callbacks=[new_cb, sat_cb])\n\u001b[0m",
      "\u001b[0;32m~/anaconda3/envs/tf/lib/python3.7/site-packages/tensorflow/python/keras/engine/training.py\u001b[0m in \u001b[0;36m_method_wrapper\u001b[0;34m(self, *args, **kwargs)\u001b[0m\n\u001b[1;32m     64\u001b[0m   \u001b[0;32mdef\u001b[0m \u001b[0m_method_wrapper\u001b[0m\u001b[0;34m(\u001b[0m\u001b[0mself\u001b[0m\u001b[0;34m,\u001b[0m \u001b[0;34m*\u001b[0m\u001b[0margs\u001b[0m\u001b[0;34m,\u001b[0m \u001b[0;34m**\u001b[0m\u001b[0mkwargs\u001b[0m\u001b[0;34m)\u001b[0m\u001b[0;34m:\u001b[0m\u001b[0;34m\u001b[0m\u001b[0;34m\u001b[0m\u001b[0m\n\u001b[1;32m     65\u001b[0m     \u001b[0;32mif\u001b[0m \u001b[0;32mnot\u001b[0m \u001b[0mself\u001b[0m\u001b[0;34m.\u001b[0m\u001b[0m_in_multi_worker_mode\u001b[0m\u001b[0;34m(\u001b[0m\u001b[0;34m)\u001b[0m\u001b[0;34m:\u001b[0m  \u001b[0;31m# pylint: disable=protected-access\u001b[0m\u001b[0;34m\u001b[0m\u001b[0;34m\u001b[0m\u001b[0m\n\u001b[0;32m---> 66\u001b[0;31m       \u001b[0;32mreturn\u001b[0m \u001b[0mmethod\u001b[0m\u001b[0;34m(\u001b[0m\u001b[0mself\u001b[0m\u001b[0;34m,\u001b[0m \u001b[0;34m*\u001b[0m\u001b[0margs\u001b[0m\u001b[0;34m,\u001b[0m \u001b[0;34m**\u001b[0m\u001b[0mkwargs\u001b[0m\u001b[0;34m)\u001b[0m\u001b[0;34m\u001b[0m\u001b[0;34m\u001b[0m\u001b[0m\n\u001b[0m\u001b[1;32m     67\u001b[0m \u001b[0;34m\u001b[0m\u001b[0m\n\u001b[1;32m     68\u001b[0m     \u001b[0;31m# Running inside `run_distribute_coordinator` already.\u001b[0m\u001b[0;34m\u001b[0m\u001b[0;34m\u001b[0m\u001b[0;34m\u001b[0m\u001b[0m\n",
      "\u001b[0;32m~/anaconda3/envs/tf/lib/python3.7/site-packages/tensorflow/python/keras/engine/training.py\u001b[0m in \u001b[0;36mfit\u001b[0;34m(self, x, y, batch_size, epochs, verbose, callbacks, validation_split, validation_data, shuffle, class_weight, sample_weight, initial_epoch, steps_per_epoch, validation_steps, validation_batch_size, validation_freq, max_queue_size, workers, use_multiprocessing)\u001b[0m\n\u001b[1;32m    874\u001b[0m           \u001b[0mepoch_logs\u001b[0m\u001b[0;34m.\u001b[0m\u001b[0mupdate\u001b[0m\u001b[0;34m(\u001b[0m\u001b[0mval_logs\u001b[0m\u001b[0;34m)\u001b[0m\u001b[0;34m\u001b[0m\u001b[0;34m\u001b[0m\u001b[0m\n\u001b[1;32m    875\u001b[0m \u001b[0;34m\u001b[0m\u001b[0m\n\u001b[0;32m--> 876\u001b[0;31m         \u001b[0mcallbacks\u001b[0m\u001b[0;34m.\u001b[0m\u001b[0mon_epoch_end\u001b[0m\u001b[0;34m(\u001b[0m\u001b[0mepoch\u001b[0m\u001b[0;34m,\u001b[0m \u001b[0mepoch_logs\u001b[0m\u001b[0;34m)\u001b[0m\u001b[0;34m\u001b[0m\u001b[0;34m\u001b[0m\u001b[0m\n\u001b[0m\u001b[1;32m    877\u001b[0m         \u001b[0;32mif\u001b[0m \u001b[0mself\u001b[0m\u001b[0;34m.\u001b[0m\u001b[0mstop_training\u001b[0m\u001b[0;34m:\u001b[0m\u001b[0;34m\u001b[0m\u001b[0;34m\u001b[0m\u001b[0m\n\u001b[1;32m    878\u001b[0m           \u001b[0;32mbreak\u001b[0m\u001b[0;34m\u001b[0m\u001b[0;34m\u001b[0m\u001b[0m\n",
      "\u001b[0;32m~/anaconda3/envs/tf/lib/python3.7/site-packages/tensorflow/python/keras/callbacks.py\u001b[0m in \u001b[0;36mon_epoch_end\u001b[0;34m(self, epoch, logs)\u001b[0m\n\u001b[1;32m    363\u001b[0m     \u001b[0mlogs\u001b[0m \u001b[0;34m=\u001b[0m \u001b[0mself\u001b[0m\u001b[0;34m.\u001b[0m\u001b[0m_process_logs\u001b[0m\u001b[0;34m(\u001b[0m\u001b[0mlogs\u001b[0m\u001b[0;34m)\u001b[0m\u001b[0;34m\u001b[0m\u001b[0;34m\u001b[0m\u001b[0m\n\u001b[1;32m    364\u001b[0m     \u001b[0;32mfor\u001b[0m \u001b[0mcallback\u001b[0m \u001b[0;32min\u001b[0m \u001b[0mself\u001b[0m\u001b[0;34m.\u001b[0m\u001b[0mcallbacks\u001b[0m\u001b[0;34m:\u001b[0m\u001b[0;34m\u001b[0m\u001b[0;34m\u001b[0m\u001b[0m\n\u001b[0;32m--> 365\u001b[0;31m       \u001b[0mcallback\u001b[0m\u001b[0;34m.\u001b[0m\u001b[0mon_epoch_end\u001b[0m\u001b[0;34m(\u001b[0m\u001b[0mepoch\u001b[0m\u001b[0;34m,\u001b[0m \u001b[0mlogs\u001b[0m\u001b[0;34m)\u001b[0m\u001b[0;34m\u001b[0m\u001b[0;34m\u001b[0m\u001b[0m\n\u001b[0m\u001b[1;32m    366\u001b[0m \u001b[0;34m\u001b[0m\u001b[0m\n\u001b[1;32m    367\u001b[0m   \u001b[0;32mdef\u001b[0m \u001b[0mon_train_batch_begin\u001b[0m\u001b[0;34m(\u001b[0m\u001b[0mself\u001b[0m\u001b[0;34m,\u001b[0m \u001b[0mbatch\u001b[0m\u001b[0;34m,\u001b[0m \u001b[0mlogs\u001b[0m\u001b[0;34m=\u001b[0m\u001b[0;32mNone\u001b[0m\u001b[0;34m)\u001b[0m\u001b[0;34m:\u001b[0m\u001b[0;34m\u001b[0m\u001b[0;34m\u001b[0m\u001b[0m\n",
      "\u001b[0;32m~/Desktop/Thesis/New_Repo/SatCallbacks.py\u001b[0m in \u001b[0;36mon_epoch_end\u001b[0;34m(self, epoch, logs)\u001b[0m\n\u001b[1;32m    140\u001b[0m             \u001b[0;32mfor\u001b[0m \u001b[0;34m(\u001b[0m\u001b[0mbatch_k\u001b[0m\u001b[0;34m,\u001b[0m \u001b[0mbatch_tf\u001b[0m\u001b[0;34m)\u001b[0m \u001b[0;32min\u001b[0m \u001b[0mzip\u001b[0m\u001b[0;34m(\u001b[0m\u001b[0mself\u001b[0m\u001b[0;34m.\u001b[0m\u001b[0mbatch_log\u001b[0m\u001b[0;34m[\u001b[0m\u001b[0;34mf\"layer_{ix}\"\u001b[0m\u001b[0;34m]\u001b[0m\u001b[0;34m,\u001b[0m \u001b[0mself\u001b[0m\u001b[0;34m.\u001b[0m\u001b[0mbatch_log_tf\u001b[0m\u001b[0;34m[\u001b[0m\u001b[0;34mf\"layer_{ix}\"\u001b[0m\u001b[0;34m]\u001b[0m\u001b[0;34m)\u001b[0m\u001b[0;34m:\u001b[0m \u001b[0;31m#TODO theres rsc.compare_tensor_lists()\u001b[0m\u001b[0;34m\u001b[0m\u001b[0;34m\u001b[0m\u001b[0m\n\u001b[1;32m    141\u001b[0m                 \u001b[0;31m#print(f\"Keras logged activation: {batch_k}\\nTF logged activation: {batch_tf}\")\u001b[0m\u001b[0;34m\u001b[0m\u001b[0;34m\u001b[0m\u001b[0;34m\u001b[0m\u001b[0m\n\u001b[0;32m--> 142\u001b[0;31m                 \u001b[0mrsc\u001b[0m\u001b[0;34m.\u001b[0m\u001b[0mcompare_tensors\u001b[0m\u001b[0;34m(\u001b[0m\u001b[0mbatch_k\u001b[0m\u001b[0;34m,\u001b[0m \u001b[0mbatch_tf\u001b[0m\u001b[0;34m,\u001b[0m \u001b[0;34m'batch_k'\u001b[0m\u001b[0;34m,\u001b[0m \u001b[0;34m'batch_tf'\u001b[0m\u001b[0;34m)\u001b[0m\u001b[0;34m\u001b[0m\u001b[0;34m\u001b[0m\u001b[0m\n\u001b[0m\u001b[1;32m    143\u001b[0m                 \u001b[0mrsc\u001b[0m\u001b[0;34m.\u001b[0m\u001b[0mcompare_tensor_lists\u001b[0m\u001b[0;34m(\u001b[0m\u001b[0mbatch_k\u001b[0m\u001b[0;34m,\u001b[0m \u001b[0mbatch_tf\u001b[0m\u001b[0;34m,\u001b[0m \u001b[0;34m'batch_k'\u001b[0m\u001b[0;34m,\u001b[0m \u001b[0;34m'batch_tf'\u001b[0m\u001b[0;34m)\u001b[0m\u001b[0;34m\u001b[0m\u001b[0;34m\u001b[0m\u001b[0m\n\u001b[1;32m    144\u001b[0m         \u001b[0;31m#raise Exception(\"Just to break before the rest gets printed.\")\u001b[0m\u001b[0;34m\u001b[0m\u001b[0;34m\u001b[0m\u001b[0;34m\u001b[0m\u001b[0m\n",
      "\u001b[0;32m~/Desktop/Thesis/New_Repo/rsc.py\u001b[0m in \u001b[0;36mcompare_tensors\u001b[0;34m(t1, t2, name1, name2)\u001b[0m\n\u001b[1;32m    268\u001b[0m     \u001b[0mprint\u001b[0m\u001b[0;34m(\u001b[0m\u001b[0;34mf\"Shape {name1}: {shapes[0]}\\nShape {name2}: {shapes[1]}\"\u001b[0m\u001b[0;34m)\u001b[0m\u001b[0;34m\u001b[0m\u001b[0;34m\u001b[0m\u001b[0m\n\u001b[1;32m    269\u001b[0m \u001b[0;34m\u001b[0m\u001b[0m\n\u001b[0;32m--> 270\u001b[0;31m     \u001b[0mequal_elements\u001b[0m \u001b[0;34m=\u001b[0m \u001b[0mtf\u001b[0m\u001b[0;34m.\u001b[0m\u001b[0mmath\u001b[0m\u001b[0;34m.\u001b[0m\u001b[0mequal\u001b[0m\u001b[0;34m(\u001b[0m\u001b[0mt1\u001b[0m\u001b[0;34m,\u001b[0m \u001b[0mt2\u001b[0m\u001b[0;34m)\u001b[0m\u001b[0;34m\u001b[0m\u001b[0;34m\u001b[0m\u001b[0m\n\u001b[0m\u001b[1;32m    271\u001b[0m     \u001b[0mall_equal\u001b[0m \u001b[0;34m=\u001b[0m \u001b[0mtf\u001b[0m\u001b[0;34m.\u001b[0m\u001b[0mmath\u001b[0m\u001b[0;34m.\u001b[0m\u001b[0mreduce_all\u001b[0m\u001b[0;34m(\u001b[0m\u001b[0mequal_elements\u001b[0m\u001b[0;34m,\u001b[0m \u001b[0maxis\u001b[0m\u001b[0;34m=\u001b[0m\u001b[0;32mNone\u001b[0m\u001b[0;34m)\u001b[0m\u001b[0;34m\u001b[0m\u001b[0;34m\u001b[0m\u001b[0m\n\u001b[1;32m    272\u001b[0m     \u001b[0;32mif\u001b[0m \u001b[0mtf\u001b[0m\u001b[0;34m.\u001b[0m\u001b[0mexecuting_eagerly\u001b[0m\u001b[0;34m(\u001b[0m\u001b[0;34m)\u001b[0m \u001b[0;32mand\u001b[0m \u001b[0mall_equal\u001b[0m\u001b[0;34m.\u001b[0m\u001b[0mnumpy\u001b[0m\u001b[0;34m(\u001b[0m\u001b[0;34m)\u001b[0m \u001b[0;34m==\u001b[0m \u001b[0;32mTrue\u001b[0m\u001b[0;34m:\u001b[0m\u001b[0;34m\u001b[0m\u001b[0;34m\u001b[0m\u001b[0m\n",
      "\u001b[0;32m~/anaconda3/envs/tf/lib/python3.7/site-packages/tensorflow/python/util/dispatch.py\u001b[0m in \u001b[0;36mwrapper\u001b[0;34m(*args, **kwargs)\u001b[0m\n\u001b[1;32m    178\u001b[0m     \u001b[0;34m\"\"\"Call target, and fall back on dispatchers if there is a TypeError.\"\"\"\u001b[0m\u001b[0;34m\u001b[0m\u001b[0;34m\u001b[0m\u001b[0m\n\u001b[1;32m    179\u001b[0m     \u001b[0;32mtry\u001b[0m\u001b[0;34m:\u001b[0m\u001b[0;34m\u001b[0m\u001b[0;34m\u001b[0m\u001b[0m\n\u001b[0;32m--> 180\u001b[0;31m       \u001b[0;32mreturn\u001b[0m \u001b[0mtarget\u001b[0m\u001b[0;34m(\u001b[0m\u001b[0;34m*\u001b[0m\u001b[0margs\u001b[0m\u001b[0;34m,\u001b[0m \u001b[0;34m**\u001b[0m\u001b[0mkwargs\u001b[0m\u001b[0;34m)\u001b[0m\u001b[0;34m\u001b[0m\u001b[0;34m\u001b[0m\u001b[0m\n\u001b[0m\u001b[1;32m    181\u001b[0m     \u001b[0;32mexcept\u001b[0m \u001b[0;34m(\u001b[0m\u001b[0mTypeError\u001b[0m\u001b[0;34m,\u001b[0m \u001b[0mValueError\u001b[0m\u001b[0;34m)\u001b[0m\u001b[0;34m:\u001b[0m\u001b[0;34m\u001b[0m\u001b[0;34m\u001b[0m\u001b[0m\n\u001b[1;32m    182\u001b[0m       \u001b[0;31m# Note: convert_to_eager_tensor currently raises a ValueError, not a\u001b[0m\u001b[0;34m\u001b[0m\u001b[0;34m\u001b[0m\u001b[0;34m\u001b[0m\u001b[0m\n",
      "\u001b[0;32m~/anaconda3/envs/tf/lib/python3.7/site-packages/tensorflow/python/ops/math_ops.py\u001b[0m in \u001b[0;36mequal\u001b[0;34m(x, y, name)\u001b[0m\n\u001b[1;32m   1443\u001b[0m     \u001b[0;31m`\u001b[0m\u001b[0mtf\u001b[0m\u001b[0;34m.\u001b[0m\u001b[0merrors\u001b[0m\u001b[0;34m.\u001b[0m\u001b[0mInvalidArgumentError\u001b[0m\u001b[0;31m`\u001b[0m\u001b[0;34m:\u001b[0m \u001b[0mIf\u001b[0m \u001b[0mshapes\u001b[0m \u001b[0mof\u001b[0m \u001b[0marguments\u001b[0m \u001b[0mare\u001b[0m \u001b[0mincompatible\u001b[0m\u001b[0;34m\u001b[0m\u001b[0;34m\u001b[0m\u001b[0m\n\u001b[1;32m   1444\u001b[0m   \"\"\"\n\u001b[0;32m-> 1445\u001b[0;31m   \u001b[0;32mreturn\u001b[0m \u001b[0mgen_math_ops\u001b[0m\u001b[0;34m.\u001b[0m\u001b[0mequal\u001b[0m\u001b[0;34m(\u001b[0m\u001b[0mx\u001b[0m\u001b[0;34m,\u001b[0m \u001b[0my\u001b[0m\u001b[0;34m,\u001b[0m \u001b[0mname\u001b[0m\u001b[0;34m=\u001b[0m\u001b[0mname\u001b[0m\u001b[0;34m)\u001b[0m\u001b[0;34m\u001b[0m\u001b[0;34m\u001b[0m\u001b[0m\n\u001b[0m\u001b[1;32m   1446\u001b[0m \u001b[0;34m\u001b[0m\u001b[0m\n\u001b[1;32m   1447\u001b[0m \u001b[0;34m\u001b[0m\u001b[0m\n",
      "\u001b[0;32m~/anaconda3/envs/tf/lib/python3.7/site-packages/tensorflow/python/ops/gen_math_ops.py\u001b[0m in \u001b[0;36mequal\u001b[0;34m(x, y, incompatible_shape_error, name)\u001b[0m\n\u001b[1;32m   3215\u001b[0m         \u001b[0;32mpass\u001b[0m  \u001b[0;31m# Add nodes to the TensorFlow graph.\u001b[0m\u001b[0;34m\u001b[0m\u001b[0;34m\u001b[0m\u001b[0m\n\u001b[1;32m   3216\u001b[0m     \u001b[0;32mexcept\u001b[0m \u001b[0m_core\u001b[0m\u001b[0;34m.\u001b[0m\u001b[0m_NotOkStatusException\u001b[0m \u001b[0;32mas\u001b[0m \u001b[0me\u001b[0m\u001b[0;34m:\u001b[0m\u001b[0;34m\u001b[0m\u001b[0;34m\u001b[0m\u001b[0m\n\u001b[0;32m-> 3217\u001b[0;31m       \u001b[0m_ops\u001b[0m\u001b[0;34m.\u001b[0m\u001b[0mraise_from_not_ok_status\u001b[0m\u001b[0;34m(\u001b[0m\u001b[0me\u001b[0m\u001b[0;34m,\u001b[0m \u001b[0mname\u001b[0m\u001b[0;34m)\u001b[0m\u001b[0;34m\u001b[0m\u001b[0;34m\u001b[0m\u001b[0m\n\u001b[0m\u001b[1;32m   3218\u001b[0m   \u001b[0;31m# Add nodes to the TensorFlow graph.\u001b[0m\u001b[0;34m\u001b[0m\u001b[0;34m\u001b[0m\u001b[0;34m\u001b[0m\u001b[0m\n\u001b[1;32m   3219\u001b[0m   \u001b[0;32mif\u001b[0m \u001b[0mincompatible_shape_error\u001b[0m \u001b[0;32mis\u001b[0m \u001b[0;32mNone\u001b[0m\u001b[0;34m:\u001b[0m\u001b[0;34m\u001b[0m\u001b[0;34m\u001b[0m\u001b[0m\n",
      "\u001b[0;32m~/anaconda3/envs/tf/lib/python3.7/site-packages/tensorflow/python/framework/ops.py\u001b[0m in \u001b[0;36mraise_from_not_ok_status\u001b[0;34m(e, name)\u001b[0m\n\u001b[1;32m   6651\u001b[0m   \u001b[0mmessage\u001b[0m \u001b[0;34m=\u001b[0m \u001b[0me\u001b[0m\u001b[0;34m.\u001b[0m\u001b[0mmessage\u001b[0m \u001b[0;34m+\u001b[0m \u001b[0;34m(\u001b[0m\u001b[0;34m\" name: \"\u001b[0m \u001b[0;34m+\u001b[0m \u001b[0mname\u001b[0m \u001b[0;32mif\u001b[0m \u001b[0mname\u001b[0m \u001b[0;32mis\u001b[0m \u001b[0;32mnot\u001b[0m \u001b[0;32mNone\u001b[0m \u001b[0;32melse\u001b[0m \u001b[0;34m\"\"\u001b[0m\u001b[0;34m)\u001b[0m\u001b[0;34m\u001b[0m\u001b[0;34m\u001b[0m\u001b[0m\n\u001b[1;32m   6652\u001b[0m   \u001b[0;31m# pylint: disable=protected-access\u001b[0m\u001b[0;34m\u001b[0m\u001b[0;34m\u001b[0m\u001b[0;34m\u001b[0m\u001b[0m\n\u001b[0;32m-> 6653\u001b[0;31m   \u001b[0msix\u001b[0m\u001b[0;34m.\u001b[0m\u001b[0mraise_from\u001b[0m\u001b[0;34m(\u001b[0m\u001b[0mcore\u001b[0m\u001b[0;34m.\u001b[0m\u001b[0m_status_to_exception\u001b[0m\u001b[0;34m(\u001b[0m\u001b[0me\u001b[0m\u001b[0;34m.\u001b[0m\u001b[0mcode\u001b[0m\u001b[0;34m,\u001b[0m \u001b[0mmessage\u001b[0m\u001b[0;34m)\u001b[0m\u001b[0;34m,\u001b[0m \u001b[0;32mNone\u001b[0m\u001b[0;34m)\u001b[0m\u001b[0;34m\u001b[0m\u001b[0;34m\u001b[0m\u001b[0m\n\u001b[0m\u001b[1;32m   6654\u001b[0m   \u001b[0;31m# pylint: enable=protected-access\u001b[0m\u001b[0;34m\u001b[0m\u001b[0;34m\u001b[0m\u001b[0;34m\u001b[0m\u001b[0m\n\u001b[1;32m   6655\u001b[0m \u001b[0;34m\u001b[0m\u001b[0m\n",
      "\u001b[0;32m~/anaconda3/envs/tf/lib/python3.7/site-packages/six.py\u001b[0m in \u001b[0;36mraise_from\u001b[0;34m(value, from_value)\u001b[0m\n",
      "\u001b[0;31mInvalidArgumentError\u001b[0m: Incompatible shapes: [0,128] vs. [10,128] [Op:Equal]"
     ]
    }
   ],
   "source": [
    "#      CLONE MNIST MODEL EAGER DISABLED\n",
    "###########################################\n",
    "importlib.reload(rsc)\n",
    "importlib.reload(Clone_Model)\n",
    "importlib.reload(SatCallbacks)\n",
    "#K.clear_session() \n",
    "\n",
    "#This mixed v1 v2 TF and can only cause problems.\n",
    "#-> pass eager=False to model.fit() instead!!\n",
    "#tf.compat.v1.disable_eager_execution()\n",
    "print(tf.executing_eagerly())\n",
    "\n",
    "#with tf.distribute.OneDeviceStrategy(device=\"/cpu:0\").scope():\n",
    "\n",
    "clone = Clone_Model.satify_model(model, {'run_eagerly' : False})\n",
    "\n",
    "sat_cb = SatCallbacks.sat_results()\n",
    "\n",
    "new_cb = SatCallbacks.sat_logger()\n",
    "\n",
    "history = clone.fit(train[0],\n",
    "                    train[1],\n",
    "                    batch_size=10,\n",
    "                    epochs=1,\n",
    "                    steps_per_epoch=5,\n",
    "                    validation_data=test, \n",
    "                    validation_steps=1, \n",
    "                    callbacks=[new_cb, sat_cb])\n"
   ]
  },
  {
   "cell_type": "code",
   "execution_count": 19,
   "metadata": {},
   "outputs": [
    {
     "name": "stdout",
     "output_type": "stream",
     "text": [
      "dict_keys(['loss', 'accuracy', 'o_s_sl_metric', 'val_loss', 'val_accuracy', 'val_o_s_sl_metric'])\n",
      "{'validation_data': None, 'model': <tensorflow.python.keras.engine.sequential.Sequential object at 0x7fabba92cf90>, '_chief_worker_only': None, 'history': {'loss': [5.974883079528809], 'accuracy': [0.9833333492279053], 'o_s_sl_metric': [18.28329982904939], 'val_loss': [4.267309665679932], 'val_accuracy': [1.0], 'val_o_s_sl_metric': [48.28329982904939]}, 'params': {'verbose': 1, 'epochs': 1, 'steps': 5}, 'epoch': [0]}\n"
     ]
    }
   ],
   "source": [
    "print(history.history.keys())\n",
    "print(history.__dict__)"
   ]
  },
  {
   "cell_type": "code",
   "execution_count": null,
   "metadata": {},
   "outputs": [],
   "source": [
    "\"\"\" Warum macht tf probleme und zeigt auf auskommentierten code?\n",
    "        #Default to k=1 if first EVal explains delta of variance alone \n",
    "        #TODO change condition so graph mode works without tf.function\n",
    "        #if not \n",
    "        #    #cond = tf.constant([True], dtype=tf.bool)\n",
    "            #print(\"cond with default catch: {}\".format(cond))   \n",
    "        \"\"\"    \n",
    "        \n",
    "    \n",
    "    #k = max(len(tf.where(cond)), 1 ) #TODO use min(1,tf.where()) instead of checking above\n",
    "        \n",
    "        #print(\"tf.where(): {}\".format(tf.where(cond)))\n",
    "        #print(\"K: in ll_fun {}\".format(k))\n",
    "       "
   ]
  },
  {
   "cell_type": "code",
   "execution_count": 4,
   "metadata": {},
   "outputs": [
    {
     "name": "stderr",
     "output_type": "stream",
     "text": [
      "UsageError: Line magic function `%tensorboard` not found.\n"
     ]
    }
   ],
   "source": [
    "%tensorboard --logdir log_dir_clone\n",
    "\n"
   ]
  }
 ],
 "metadata": {
  "kernelspec": {
   "display_name": "Python [conda env:tf] *",
   "language": "python",
   "name": "conda-env-tf-py"
  },
  "language_info": {
   "codemirror_mode": {
    "name": "ipython",
    "version": 3
   },
   "file_extension": ".py",
   "mimetype": "text/x-python",
   "name": "python",
   "nbconvert_exporter": "python",
   "pygments_lexer": "ipython3",
   "version": "3.7.9"
  }
 },
 "nbformat": 4,
 "nbformat_minor": 4
}

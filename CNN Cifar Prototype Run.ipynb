{
 "cells": [
  {
   "cell_type": "code",
   "execution_count": 19,
   "metadata": {},
   "outputs": [
    {
     "name": "stdout",
     "output_type": "stream",
     "text": [
      "Shape of cifar10 y_train: (50000, 1)\n"
     ]
    }
   ],
   "source": [
    "import tensorflow as tf\n",
    "from tensorflow.keras import datasets, layers, models\n",
    "import matplotlib.pyplot as plt\n",
    "import importlib\n",
    "import rsc \n",
    "importlib.reload(rsc)\n",
    "\n",
    "\n",
    "import SatCallbacks\n",
    "import Clone_Model\n",
    "import rsc\n",
    "\n",
    "\"\"\"\n",
    "(trainX, trainy), (testX, testy) = rsc.get_cifar10()\n",
    "\n",
    "# load dataset\n",
    "#(trainX, trainy), (testX, testy) = cifar10.load_data()\n",
    "# summarize loaded dataset\n",
    "print('Train: X=%s, y=%s' % (trainX.shape, trainy.shape))\n",
    "print('Test: X=%s, y=%s' % (testX.shape, testy.shape))\n",
    "# plot first few images\n",
    "for i in range(9):\n",
    "\t# define subplot\n",
    "\tplt.subplot(330 + 1 + i)\n",
    "\t# plot raw pixel data\n",
    "\tplt.imshow(trainX[i])\n",
    "# show the figure\n",
    "plt.show()\n",
    "\"\"\"\n",
    "\n",
    "(train_images, train_labels), (test_images, test_labels) = rsc.get_cifar10(one_hot=False)"
   ]
  },
  {
   "cell_type": "code",
   "execution_count": 18,
   "metadata": {},
   "outputs": [
    {
     "name": "stdout",
     "output_type": "stream",
     "text": [
      "Epoch 1/10\n",
      "1563/1563 [==============================] - 94s 60ms/step - loss: 1.5796 - accuracy: 0.4206 - val_loss: 1.3501 - val_accuracy: 0.5149\n",
      "Epoch 2/10\n",
      "1563/1563 [==============================] - 88s 57ms/step - loss: 1.2522 - accuracy: 0.5501 - val_loss: 1.2772 - val_accuracy: 0.5352\n",
      "Epoch 3/10\n",
      "1563/1563 [==============================] - 85s 55ms/step - loss: 1.1066 - accuracy: 0.6096 - val_loss: 1.1379 - val_accuracy: 0.6049\n",
      "Epoch 4/10\n",
      "1563/1563 [==============================] - 88s 56ms/step - loss: 1.0208 - accuracy: 0.6401 - val_loss: 1.0188 - val_accuracy: 0.6403\n",
      "Epoch 5/10\n",
      "1563/1563 [==============================] - 86s 55ms/step - loss: 0.9468 - accuracy: 0.6678 - val_loss: 0.9862 - val_accuracy: 0.6592\n",
      "Epoch 6/10\n",
      "1563/1563 [==============================] - 104s 67ms/step - loss: 0.8943 - accuracy: 0.6849 - val_loss: 0.9570 - val_accuracy: 0.6668\n",
      "Epoch 7/10\n",
      "1563/1563 [==============================] - 95s 61ms/step - loss: 0.8519 - accuracy: 0.6992 - val_loss: 0.9563 - val_accuracy: 0.6734\n",
      "Epoch 8/10\n",
      "1563/1563 [==============================] - 82s 52ms/step - loss: 0.8088 - accuracy: 0.7155 - val_loss: 0.9118 - val_accuracy: 0.6803\n",
      "Epoch 9/10\n",
      "1563/1563 [==============================] - 94s 60ms/step - loss: 0.7780 - accuracy: 0.7243 - val_loss: 0.8938 - val_accuracy: 0.6964\n",
      "Epoch 10/10\n",
      "1563/1563 [==============================] - 107s 69ms/step - loss: 0.7512 - accuracy: 0.7332 - val_loss: 0.9209 - val_accuracy: 0.6879\n"
     ]
    }
   ],
   "source": [
    "model = models.Sequential()\n",
    "model.add(layers.Conv2D(32, (3, 3), activation='relu', input_shape=(32, 32, 3)))\n",
    "model.add(layers.MaxPooling2D((2, 2)))\n",
    "model.add(layers.Conv2D(64, (3, 3), activation='relu'))\n",
    "model.add(layers.MaxPooling2D((2, 2)))\n",
    "model.add(layers.Conv2D(64, (3, 3), activation='relu'))\n",
    "\n",
    "model.add(layers.Flatten())\n",
    "model.add(layers.Dense(64, activation='relu'))\n",
    "model.add(layers.Dense(10))\n",
    "\n",
    "#model.summary()\n",
    "\n",
    "model.compile(optimizer='adam',\n",
    "              loss=tf.keras.losses.SparseCategoricalCrossentropy(from_logits=True),\n",
    "              metrics=['accuracy'])\n",
    "\n",
    "history = model.fit(train_images, train_labels, epochs=10, \n",
    "                    validation_data=(test_images, test_labels))\n",
    "\n"
   ]
  },
  {
   "cell_type": "code",
   "execution_count": 21,
   "metadata": {},
   "outputs": [
    {
     "name": "stdout",
     "output_type": "stream",
     "text": [
      "Model: \"sequential_6\"\n",
      "_________________________________________________________________\n",
      "Layer (type)                 Output Shape              Param #   \n",
      "=================================================================\n",
      "conv2d_18 (Conv2D)           (None, 30, 30, 32)        896       \n",
      "_________________________________________________________________\n",
      "max_pooling2d_12 (MaxPooling (None, 15, 15, 32)        0         \n",
      "_________________________________________________________________\n",
      "conv2d_19 (Conv2D)           (None, 13, 13, 64)        18496     \n",
      "_________________________________________________________________\n",
      "max_pooling2d_13 (MaxPooling (None, 6, 6, 64)          0         \n",
      "_________________________________________________________________\n",
      "conv2d_20 (Conv2D)           (None, 4, 4, 64)          36928     \n",
      "_________________________________________________________________\n",
      "flatten_5 (Flatten)          (None, 1024)              0         \n",
      "_________________________________________________________________\n",
      "dense_10 (Dense)             (None, 64)                65600     \n",
      "_________________________________________________________________\n",
      "dense_11 (Dense)             (None, 10)                650       \n",
      "=================================================================\n",
      "Total params: 122,570\n",
      "Trainable params: 122,570\n",
      "Non-trainable params: 0\n",
      "_________________________________________________________________\n",
      "<class 'tensorflow.python.keras.layers.convolutional.Conv2D'>\n",
      "<class 'tensorflow.python.keras.layers.pooling.MaxPooling2D'>\n",
      "<class 'tensorflow.python.keras.layers.convolutional.Conv2D'>\n",
      "<class 'tensorflow.python.keras.layers.pooling.MaxPooling2D'>\n",
      "<class 'tensorflow.python.keras.layers.convolutional.Conv2D'>\n",
      "<class 'tensorflow.python.keras.layers.core.Flatten'>\n",
      "input_shape: [None, 64]\n",
      "layer_width: (64,)\n",
      "input_shape: [None, 10]\n",
      "layer_width: (10,)\n"
     ]
    },
    {
     "ename": "AssertionError",
     "evalue": "Cloned Model Predictions don't match Original!",
     "output_type": "error",
     "traceback": [
      "\u001b[0;31m---------------------------------------------------------------------------\u001b[0m",
      "\u001b[0;31mAssertionError\u001b[0m                            Traceback (most recent call last)",
      "\u001b[0;32m<ipython-input-21-33b4e1dd2661>\u001b[0m in \u001b[0;36m<module>\u001b[0;34m\u001b[0m\n\u001b[1;32m      1\u001b[0m \u001b[0mmodel\u001b[0m\u001b[0;34m.\u001b[0m\u001b[0msummary\u001b[0m\u001b[0;34m(\u001b[0m\u001b[0;34m)\u001b[0m\u001b[0;34m\u001b[0m\u001b[0;34m\u001b[0m\u001b[0m\n\u001b[1;32m      2\u001b[0m \u001b[0;34m\u001b[0m\u001b[0m\n\u001b[0;32m----> 3\u001b[0;31m \u001b[0mclone\u001b[0m \u001b[0;34m=\u001b[0m \u001b[0mClone_Model\u001b[0m\u001b[0;34m.\u001b[0m\u001b[0msatify_model\u001b[0m\u001b[0;34m(\u001b[0m\u001b[0mmodel\u001b[0m\u001b[0;34m)\u001b[0m\u001b[0;34m\u001b[0m\u001b[0;34m\u001b[0m\u001b[0m\n\u001b[0m\u001b[1;32m      4\u001b[0m \u001b[0;34m\u001b[0m\u001b[0m\n\u001b[1;32m      5\u001b[0m clone.compile(optimizer=keras.optimizers.Adam(),\n",
      "\u001b[0;32m~/Desktop/Thesis/New_Repo/Clone_Model.py\u001b[0m in \u001b[0;36msatify_model\u001b[0;34m(model, compile_dict)\u001b[0m\n\u001b[1;32m    123\u001b[0m     \u001b[0mexample_input_shp\u001b[0m \u001b[0;34m=\u001b[0m \u001b[0;34m(\u001b[0m\u001b[0;36m1\u001b[0m\u001b[0;34m,\u001b[0m\u001b[0;34m)\u001b[0m \u001b[0;34m+\u001b[0m \u001b[0mmodel\u001b[0m\u001b[0;34m.\u001b[0m\u001b[0minput_shape\u001b[0m\u001b[0;34m[\u001b[0m\u001b[0;36m1\u001b[0m\u001b[0;34m:\u001b[0m\u001b[0;34m]\u001b[0m\u001b[0;34m\u001b[0m\u001b[0;34m\u001b[0m\u001b[0m\n\u001b[1;32m    124\u001b[0m     \u001b[0mz_in\u001b[0m \u001b[0;34m=\u001b[0m \u001b[0mnp\u001b[0m\u001b[0;34m.\u001b[0m\u001b[0mones\u001b[0m\u001b[0;34m(\u001b[0m\u001b[0mshape\u001b[0m\u001b[0;34m=\u001b[0m\u001b[0mexample_input_shp\u001b[0m\u001b[0;34m)\u001b[0m\u001b[0;34m\u001b[0m\u001b[0;34m\u001b[0m\u001b[0m\n\u001b[0;32m--> 125\u001b[0;31m     \u001b[0;32massert\u001b[0m \u001b[0mnp\u001b[0m\u001b[0;34m.\u001b[0m\u001b[0mallclose\u001b[0m\u001b[0;34m(\u001b[0m\u001b[0mmodel\u001b[0m\u001b[0;34m.\u001b[0m\u001b[0mpredict\u001b[0m\u001b[0;34m(\u001b[0m\u001b[0mz_in\u001b[0m\u001b[0;34m)\u001b[0m\u001b[0;34m,\u001b[0m \u001b[0mclone\u001b[0m\u001b[0;34m.\u001b[0m\u001b[0mpredict\u001b[0m\u001b[0;34m(\u001b[0m\u001b[0mz_in\u001b[0m\u001b[0;34m)\u001b[0m\u001b[0;34m)\u001b[0m\u001b[0;34m,\u001b[0m \u001b[0;34m\"Cloned Model Predictions don't match Original!\"\u001b[0m\u001b[0;34m\u001b[0m\u001b[0;34m\u001b[0m\u001b[0m\n\u001b[0m\u001b[1;32m    126\u001b[0m \u001b[0;34m\u001b[0m\u001b[0m\n\u001b[1;32m    127\u001b[0m \u001b[0;34m\u001b[0m\u001b[0m\n",
      "\u001b[0;31mAssertionError\u001b[0m: Cloned Model Predictions don't match Original!"
     ]
    }
   ],
   "source": [
    "model.summary()\n",
    "\n",
    "clone = Clone_Model.satify_model(model)\n",
    "\n",
    "clone.compile(optimizer=keras.optimizers.Adam(),\n",
    "              loss=keras.losses.BinaryCrossentropy(),\n",
    "              run_eagerly = tf.executing_eagerly())\n",
    "\n",
    "history = clone.fit(train_images, train_labes,\n",
    "                    epochs=1,\n",
    "                    validation_data=(test_images, test_labels), \n",
    "                    validation_steps=1, \n",
    "                    callbacks=[])"
   ]
  }
 ],
 "metadata": {
  "kernelspec": {
   "display_name": "Python 3.7.9 64-bit ('tf': conda)",
   "language": "python",
   "name": "python37964bittfconda245ad64c0ca243d0865e52d35a5cfac1"
  },
  "language_info": {
   "codemirror_mode": {
    "name": "ipython",
    "version": 3
   },
   "file_extension": ".py",
   "mimetype": "text/x-python",
   "name": "python",
   "nbconvert_exporter": "python",
   "pygments_lexer": "ipython3",
   "version": "3.7.9"
  }
 },
 "nbformat": 4,
 "nbformat_minor": 4
}
